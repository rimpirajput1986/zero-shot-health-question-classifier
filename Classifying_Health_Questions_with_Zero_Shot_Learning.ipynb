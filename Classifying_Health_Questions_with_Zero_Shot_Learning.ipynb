{
 "cells": [
  {
   "cell_type": "markdown",
   "metadata": {
    "id": "1XNVB2tUHdTh"
   },
   "source": [
    "## Project: Zero-Shot Classification of Health Questions using BART\n",
    "\n",
    "This project applies Hugging Face’s `facebook/bart-large-mnli` transformer to classify COVID-related health questions into broader categories using **zero-shot learning**. No task-specific training was performed.\n",
    "\n",
    "The model processes real-world health-related text and predicts one of six broad categories. This serves as a proof-of-concept for using LLMs in medical text triage or classification pipelines.\n",
    "\n",
    "**Tools:**  \n",
    "Python, Hugging Face Transformers, Matplotlib  "
   ]
  },
  {
   "cell_type": "code",
   "execution_count": null,
   "metadata": {
    "id": "ARm0iBtWFSxX"
   },
   "outputs": [],
   "source": [
    "# # Synthetic clinical messages\n",
    "# examples = [\n",
    "#     \"Can I get a refill for my blood pressure meds?\",\n",
    "#     \"I need to schedule my annual physical.\",\n",
    "#     \"My headache is getting worse since yesterday.\",\n",
    "#     \"Please update my insurance details in the system.\",\n",
    "#     \"Is it okay to take this medication with food?\",\n",
    "#     \"I missed my appointment and need to reschedule.\",\n",
    "#     \"How much should I take if I missed a dose?\",\n",
    "#     \"Can someone call me to confirm my follow-up?\",\n",
    "#     \"I think I'm having side effects from the new pills.\",\n",
    "#     \"I uploaded my new insurance card to MyChart.\",\n",
    "#     \"When will the test results be available?\",\n",
    "#     \"I’ve been feeling dizzy and nauseous for two days.\",\n",
    "#     \"Can I talk to a nurse about vaccine eligibility?\",\n",
    "#     \"I was charged incorrectly for my last visit.\",\n",
    "#     \"Do I need a referral to see a dermatologist?\",\n",
    "#     \"Please cancel my appointment for next Tuesday.\",\n",
    "#     \"Can I take ibuprofen with my blood thinner?\",\n",
    "#     \"My cough is worse at night and I have a mild fever.\",\n",
    "#     \"How do I get access to my medical records?\",\n",
    "#     \"What time should I arrive for my MRI appointment?\"\n",
    "# ]\n",
    "\n",
    "# # Classification categories\n",
    "# candidate_labels = [\"medication\", \"appointment\", \"symptoms\", \"billing\", \"administrative\", \"other\"]"
   ]
  },
  {
   "cell_type": "markdown",
   "metadata": {
    "id": "o0p2z-i4prda"
   },
   "source": [
    "## 📂 Dataset\n",
    "\n",
    "We use the COVID-Q dataset (Wei et al., 2020), which contains over 1,600 de-identified health-related questions submitted during the COVID-19 pandemic.\n",
    "\n",
    "Each question is labeled with a fine-grained category (e.g., \"Symptoms - Fever\", \"Testing - PCR\"), which we group into 6 broader categories:\n",
    "\n",
    "- **Symptoms**\n",
    "- **Testing**\n",
    "- **Treatment**\n",
    "- **Social Impact**\n",
    "- **Information**\n",
    "- **Other**"
   ]
  },
  {
   "cell_type": "code",
   "execution_count": null,
   "metadata": {
    "colab": {
     "base_uri": "https://localhost:8080/",
     "height": 204
    },
    "id": "_sCsYa5JLnaJ",
    "outputId": "d1d6e984-e726-42e7-acc9-e6ec3f4cb5bb"
   },
   "outputs": [
    {
     "data": {
      "application/vnd.google.colaboratory.intrinsic+json": {
       "summary": "{\n  \"name\": \"df\",\n  \"rows\": 1611,\n  \"fields\": [\n    {\n      \"column\": \"Category\",\n      \"properties\": {\n        \"dtype\": \"category\",\n        \"num_unique_values\": 208,\n        \"samples\": [\n          \"Transmission - Time of Contagiousness When Infected\",\n          \"Nomenclature - Pandemic Definition\",\n          \"Symptoms - Stroke\"\n        ],\n        \"semantic_type\": \"\",\n        \"description\": \"\"\n      }\n    },\n    {\n      \"column\": \"Question ID\",\n      \"properties\": {\n        \"dtype\": \"number\",\n        \"std\": 211,\n        \"min\": 1,\n        \"max\": 697,\n        \"num_unique_values\": 575,\n        \"samples\": [\n          203,\n          691,\n          133\n        ],\n        \"semantic_type\": \"\",\n        \"description\": \"\"\n      }\n    },\n    {\n      \"column\": \"Question\",\n      \"properties\": {\n        \"dtype\": \"string\",\n        \"num_unique_values\": 1596,\n        \"samples\": [\n          \"what is the size of bovine covid\",\n          \"what is the genus of the sars covid\",\n          \"should all americans be under stay at home orders\"\n        ],\n        \"semantic_type\": \"\",\n        \"description\": \"\"\n      }\n    },\n    {\n      \"column\": \"Source\",\n      \"properties\": {\n        \"dtype\": \"category\",\n        \"num_unique_values\": 14,\n        \"samples\": [\n          \"United Nations\",\n          \"GitHub.com/deepset-ai/COVID-QA\",\n          \"Google Search\"\n        ],\n        \"semantic_type\": \"\",\n        \"description\": \"\"\n      }\n    },\n    {\n      \"column\": \"Answers\",\n      \"properties\": {\n        \"dtype\": \"category\",\n        \"num_unique_values\": 243,\n        \"samples\": [\n          \"it is important to continue your familys coping methods, including reaching out to other family members, friends, support groups, and organizations that have been helpful in the past. \",\n          \"according to the food and drug administration (fda), there have not been any cases of covid known to be caused from eating food or handling food packaging., currently there is no evidence of food or food packaging being associated with transmission of covid. , there is no evidence to suggest that food produced in the united states or imported from countries affected by covid can transmit covid. , currently, there is no evidence of food or food packaging being associated with transmission of covid. ,  currently there is no evidence of food, food containers, or food packaging being associated with transmission of covid. like other viruses, it is possible that the virus that causes covid can survive on surfaces or objects. , there are no nationwide shortages of animal food, although in some cases the inventory of certain foods at your grocery store might be temporarily low before stores can restock., theres no evidence that covid can be transmitted through food., based on information about this novel covid thus far, it seems unlikely that covid can be transmitted through food   additional investigation is needed. , currently, there is no evidence to support transmission of covid associated with food. \",\n          \"serology testing checks a sample of a persons blood to look for antibodies to covid, the virus that causes covid. these antibodies are produced when someone has been infected, so a positive result from this test indicates that person was previously infected with the virus. \"\n        ],\n        \"semantic_type\": \"\",\n        \"description\": \"\"\n      }\n    }\n  ]\n}",
       "type": "dataframe",
       "variable_name": "df"
      },
      "text/html": [
       "\n",
       "  <div id=\"df-ac5accf5-a49c-4137-9b02-b9b96281b303\" class=\"colab-df-container\">\n",
       "    <div>\n",
       "<style scoped>\n",
       "    .dataframe tbody tr th:only-of-type {\n",
       "        vertical-align: middle;\n",
       "    }\n",
       "\n",
       "    .dataframe tbody tr th {\n",
       "        vertical-align: top;\n",
       "    }\n",
       "\n",
       "    .dataframe thead th {\n",
       "        text-align: right;\n",
       "    }\n",
       "</style>\n",
       "<table border=\"1\" class=\"dataframe\">\n",
       "  <thead>\n",
       "    <tr style=\"text-align: right;\">\n",
       "      <th></th>\n",
       "      <th>Category</th>\n",
       "      <th>Question ID</th>\n",
       "      <th>Question</th>\n",
       "      <th>Source</th>\n",
       "      <th>Answers</th>\n",
       "    </tr>\n",
       "  </thead>\n",
       "  <tbody>\n",
       "    <tr>\n",
       "      <th>0</th>\n",
       "      <td>Speculation - Pandemic Duration</td>\n",
       "      <td>42</td>\n",
       "      <td>will covid end soon</td>\n",
       "      <td>Google Search</td>\n",
       "      <td>may 1st, i think, is completely unrealistic, s...</td>\n",
       "    </tr>\n",
       "    <tr>\n",
       "      <th>1</th>\n",
       "      <td>Speculation - Pandemic Duration</td>\n",
       "      <td>42</td>\n",
       "      <td>will covid end</td>\n",
       "      <td>Yahoo Search</td>\n",
       "      <td>may 1st, i think, is completely unrealistic, s...</td>\n",
       "    </tr>\n",
       "    <tr>\n",
       "      <th>2</th>\n",
       "      <td>Speculation - Pandemic Duration</td>\n",
       "      <td>42</td>\n",
       "      <td>when covid will be over</td>\n",
       "      <td>Google Search</td>\n",
       "      <td>may 1st, i think, is completely unrealistic, s...</td>\n",
       "    </tr>\n",
       "    <tr>\n",
       "      <th>3</th>\n",
       "      <td>Speculation - Pandemic Duration</td>\n",
       "      <td>42</td>\n",
       "      <td>when covid lockdown ends</td>\n",
       "      <td>Google Search</td>\n",
       "      <td>may 1st, i think, is completely unrealistic, s...</td>\n",
       "    </tr>\n",
       "    <tr>\n",
       "      <th>4</th>\n",
       "      <td>Speculation - Pandemic Duration</td>\n",
       "      <td>42</td>\n",
       "      <td>will covid go away</td>\n",
       "      <td>Google Search</td>\n",
       "      <td>may 1st, i think, is completely unrealistic, s...</td>\n",
       "    </tr>\n",
       "  </tbody>\n",
       "</table>\n",
       "</div>\n",
       "    <div class=\"colab-df-buttons\">\n",
       "\n",
       "  <div class=\"colab-df-container\">\n",
       "    <button class=\"colab-df-convert\" onclick=\"convertToInteractive('df-ac5accf5-a49c-4137-9b02-b9b96281b303')\"\n",
       "            title=\"Convert this dataframe to an interactive table.\"\n",
       "            style=\"display:none;\">\n",
       "\n",
       "  <svg xmlns=\"http://www.w3.org/2000/svg\" height=\"24px\" viewBox=\"0 -960 960 960\">\n",
       "    <path d=\"M120-120v-720h720v720H120Zm60-500h600v-160H180v160Zm220 220h160v-160H400v160Zm0 220h160v-160H400v160ZM180-400h160v-160H180v160Zm440 0h160v-160H620v160ZM180-180h160v-160H180v160Zm440 0h160v-160H620v160Z\"/>\n",
       "  </svg>\n",
       "    </button>\n",
       "\n",
       "  <style>\n",
       "    .colab-df-container {\n",
       "      display:flex;\n",
       "      gap: 12px;\n",
       "    }\n",
       "\n",
       "    .colab-df-convert {\n",
       "      background-color: #E8F0FE;\n",
       "      border: none;\n",
       "      border-radius: 50%;\n",
       "      cursor: pointer;\n",
       "      display: none;\n",
       "      fill: #1967D2;\n",
       "      height: 32px;\n",
       "      padding: 0 0 0 0;\n",
       "      width: 32px;\n",
       "    }\n",
       "\n",
       "    .colab-df-convert:hover {\n",
       "      background-color: #E2EBFA;\n",
       "      box-shadow: 0px 1px 2px rgba(60, 64, 67, 0.3), 0px 1px 3px 1px rgba(60, 64, 67, 0.15);\n",
       "      fill: #174EA6;\n",
       "    }\n",
       "\n",
       "    .colab-df-buttons div {\n",
       "      margin-bottom: 4px;\n",
       "    }\n",
       "\n",
       "    [theme=dark] .colab-df-convert {\n",
       "      background-color: #3B4455;\n",
       "      fill: #D2E3FC;\n",
       "    }\n",
       "\n",
       "    [theme=dark] .colab-df-convert:hover {\n",
       "      background-color: #434B5C;\n",
       "      box-shadow: 0px 1px 3px 1px rgba(0, 0, 0, 0.15);\n",
       "      filter: drop-shadow(0px 1px 2px rgba(0, 0, 0, 0.3));\n",
       "      fill: #FFFFFF;\n",
       "    }\n",
       "  </style>\n",
       "\n",
       "    <script>\n",
       "      const buttonEl =\n",
       "        document.querySelector('#df-ac5accf5-a49c-4137-9b02-b9b96281b303 button.colab-df-convert');\n",
       "      buttonEl.style.display =\n",
       "        google.colab.kernel.accessAllowed ? 'block' : 'none';\n",
       "\n",
       "      async function convertToInteractive(key) {\n",
       "        const element = document.querySelector('#df-ac5accf5-a49c-4137-9b02-b9b96281b303');\n",
       "        const dataTable =\n",
       "          await google.colab.kernel.invokeFunction('convertToInteractive',\n",
       "                                                    [key], {});\n",
       "        if (!dataTable) return;\n",
       "\n",
       "        const docLinkHtml = 'Like what you see? Visit the ' +\n",
       "          '<a target=\"_blank\" href=https://colab.research.google.com/notebooks/data_table.ipynb>data table notebook</a>'\n",
       "          + ' to learn more about interactive tables.';\n",
       "        element.innerHTML = '';\n",
       "        dataTable['output_type'] = 'display_data';\n",
       "        await google.colab.output.renderOutput(dataTable, element);\n",
       "        const docLink = document.createElement('div');\n",
       "        docLink.innerHTML = docLinkHtml;\n",
       "        element.appendChild(docLink);\n",
       "      }\n",
       "    </script>\n",
       "  </div>\n",
       "\n",
       "\n",
       "    <div id=\"df-4d1b2d6a-abd0-40eb-845c-ab3b14d308c3\">\n",
       "      <button class=\"colab-df-quickchart\" onclick=\"quickchart('df-4d1b2d6a-abd0-40eb-845c-ab3b14d308c3')\"\n",
       "                title=\"Suggest charts\"\n",
       "                style=\"display:none;\">\n",
       "\n",
       "<svg xmlns=\"http://www.w3.org/2000/svg\" height=\"24px\"viewBox=\"0 0 24 24\"\n",
       "     width=\"24px\">\n",
       "    <g>\n",
       "        <path d=\"M19 3H5c-1.1 0-2 .9-2 2v14c0 1.1.9 2 2 2h14c1.1 0 2-.9 2-2V5c0-1.1-.9-2-2-2zM9 17H7v-7h2v7zm4 0h-2V7h2v10zm4 0h-2v-4h2v4z\"/>\n",
       "    </g>\n",
       "</svg>\n",
       "      </button>\n",
       "\n",
       "<style>\n",
       "  .colab-df-quickchart {\n",
       "      --bg-color: #E8F0FE;\n",
       "      --fill-color: #1967D2;\n",
       "      --hover-bg-color: #E2EBFA;\n",
       "      --hover-fill-color: #174EA6;\n",
       "      --disabled-fill-color: #AAA;\n",
       "      --disabled-bg-color: #DDD;\n",
       "  }\n",
       "\n",
       "  [theme=dark] .colab-df-quickchart {\n",
       "      --bg-color: #3B4455;\n",
       "      --fill-color: #D2E3FC;\n",
       "      --hover-bg-color: #434B5C;\n",
       "      --hover-fill-color: #FFFFFF;\n",
       "      --disabled-bg-color: #3B4455;\n",
       "      --disabled-fill-color: #666;\n",
       "  }\n",
       "\n",
       "  .colab-df-quickchart {\n",
       "    background-color: var(--bg-color);\n",
       "    border: none;\n",
       "    border-radius: 50%;\n",
       "    cursor: pointer;\n",
       "    display: none;\n",
       "    fill: var(--fill-color);\n",
       "    height: 32px;\n",
       "    padding: 0;\n",
       "    width: 32px;\n",
       "  }\n",
       "\n",
       "  .colab-df-quickchart:hover {\n",
       "    background-color: var(--hover-bg-color);\n",
       "    box-shadow: 0 1px 2px rgba(60, 64, 67, 0.3), 0 1px 3px 1px rgba(60, 64, 67, 0.15);\n",
       "    fill: var(--button-hover-fill-color);\n",
       "  }\n",
       "\n",
       "  .colab-df-quickchart-complete:disabled,\n",
       "  .colab-df-quickchart-complete:disabled:hover {\n",
       "    background-color: var(--disabled-bg-color);\n",
       "    fill: var(--disabled-fill-color);\n",
       "    box-shadow: none;\n",
       "  }\n",
       "\n",
       "  .colab-df-spinner {\n",
       "    border: 2px solid var(--fill-color);\n",
       "    border-color: transparent;\n",
       "    border-bottom-color: var(--fill-color);\n",
       "    animation:\n",
       "      spin 1s steps(1) infinite;\n",
       "  }\n",
       "\n",
       "  @keyframes spin {\n",
       "    0% {\n",
       "      border-color: transparent;\n",
       "      border-bottom-color: var(--fill-color);\n",
       "      border-left-color: var(--fill-color);\n",
       "    }\n",
       "    20% {\n",
       "      border-color: transparent;\n",
       "      border-left-color: var(--fill-color);\n",
       "      border-top-color: var(--fill-color);\n",
       "    }\n",
       "    30% {\n",
       "      border-color: transparent;\n",
       "      border-left-color: var(--fill-color);\n",
       "      border-top-color: var(--fill-color);\n",
       "      border-right-color: var(--fill-color);\n",
       "    }\n",
       "    40% {\n",
       "      border-color: transparent;\n",
       "      border-right-color: var(--fill-color);\n",
       "      border-top-color: var(--fill-color);\n",
       "    }\n",
       "    60% {\n",
       "      border-color: transparent;\n",
       "      border-right-color: var(--fill-color);\n",
       "    }\n",
       "    80% {\n",
       "      border-color: transparent;\n",
       "      border-right-color: var(--fill-color);\n",
       "      border-bottom-color: var(--fill-color);\n",
       "    }\n",
       "    90% {\n",
       "      border-color: transparent;\n",
       "      border-bottom-color: var(--fill-color);\n",
       "    }\n",
       "  }\n",
       "</style>\n",
       "\n",
       "      <script>\n",
       "        async function quickchart(key) {\n",
       "          const quickchartButtonEl =\n",
       "            document.querySelector('#' + key + ' button');\n",
       "          quickchartButtonEl.disabled = true;  // To prevent multiple clicks.\n",
       "          quickchartButtonEl.classList.add('colab-df-spinner');\n",
       "          try {\n",
       "            const charts = await google.colab.kernel.invokeFunction(\n",
       "                'suggestCharts', [key], {});\n",
       "          } catch (error) {\n",
       "            console.error('Error during call to suggestCharts:', error);\n",
       "          }\n",
       "          quickchartButtonEl.classList.remove('colab-df-spinner');\n",
       "          quickchartButtonEl.classList.add('colab-df-quickchart-complete');\n",
       "        }\n",
       "        (() => {\n",
       "          let quickchartButtonEl =\n",
       "            document.querySelector('#df-4d1b2d6a-abd0-40eb-845c-ab3b14d308c3 button');\n",
       "          quickchartButtonEl.style.display =\n",
       "            google.colab.kernel.accessAllowed ? 'block' : 'none';\n",
       "        })();\n",
       "      </script>\n",
       "    </div>\n",
       "\n",
       "    </div>\n",
       "  </div>\n"
      ],
      "text/plain": [
       "                          Category  Question ID                  Question  \\\n",
       "0  Speculation - Pandemic Duration           42       will covid end soon   \n",
       "1  Speculation - Pandemic Duration           42            will covid end   \n",
       "2  Speculation - Pandemic Duration           42   when covid will be over   \n",
       "3  Speculation - Pandemic Duration           42  when covid lockdown ends   \n",
       "4  Speculation - Pandemic Duration           42        will covid go away   \n",
       "\n",
       "          Source                                            Answers  \n",
       "0  Google Search  may 1st, i think, is completely unrealistic, s...  \n",
       "1   Yahoo Search  may 1st, i think, is completely unrealistic, s...  \n",
       "2  Google Search  may 1st, i think, is completely unrealistic, s...  \n",
       "3  Google Search  may 1st, i think, is completely unrealistic, s...  \n",
       "4  Google Search  may 1st, i think, is completely unrealistic, s...  "
      ]
     },
     "execution_count": 62,
     "metadata": {},
     "output_type": "execute_result"
    }
   ],
   "source": [
    "import pandas as pd\n",
    "\n",
    "url = \"https://raw.githubusercontent.com/JerryWei03/COVID-Q/master/final_master_dataset.csv\"\n",
    "df = pd.read_csv(url)\n",
    "\n",
    "df.head()"
   ]
  },
  {
   "cell_type": "code",
   "execution_count": null,
   "metadata": {
    "id": "CyRQADRGTPZx"
   },
   "outputs": [],
   "source": [
    "df = df[df[\"Category\"].notnull() & df[\"Question\"].notnull()].copy()\n",
    "# Create broad categories by extracting first word before ' - '\n",
    "df[\"Broad_Category\"] = df[\"Category\"].str.split(\" - \").str[0]\n",
    "df = df[df[\"Broad_Category\"].notnull()].copy()"
   ]
  },
  {
   "cell_type": "code",
   "execution_count": null,
   "metadata": {
    "id": "4rIdGiHOXkUs"
   },
   "outputs": [],
   "source": [
    "# Map to Broader Categories\n",
    "label_map = {\n",
    "    \"Symptoms\": [\"Symptoms\", \"Having COVID\"],\n",
    "    \"Testing\": [\"Testing\", \"Reporting\"],\n",
    "    \"Treatment\": [\"Treatment\", \"Prevention\"],\n",
    "    \"Social Impact\": [\"Societal Effects\", \"Economic Effects\", \"Societal Response\", \"Individual Response\"],\n",
    "    \"Information\": [\"Nomenclature\", \"Origin\", \"Speculation\", \"Comparison\"],\n",
    "    \"Other\": [\"Other\"]\n",
    "}\n",
    "\n",
    "flat_map = {}\n",
    "for broad, fine_list in label_map.items():\n",
    "    for fine in fine_list:\n",
    "        flat_map[fine] = broad\n",
    "\n",
    "df[\"Grouped_Category\"] = df[\"Broad_Category\"].map(flat_map)\n",
    "df = df[df[\"Grouped_Category\"].notnull()].copy()"
   ]
  },
  {
   "cell_type": "code",
   "execution_count": null,
   "metadata": {
    "id": "K-UGrmq9n94l"
   },
   "outputs": [],
   "source": [
    "# Prepare Data\n",
    "texts = df[\"Question\"].astype(str).tolist()\n",
    "true_labels = df[\"Grouped_Category\"].tolist()\n",
    "candidate_labels = sorted(set(true_labels))"
   ]
  },
  {
   "cell_type": "markdown",
   "metadata": {
    "id": "USdxsoW5p3qn"
   },
   "source": [
    "## ⚙️ Model\n",
    "\n",
    "We use Hugging Face’s `facebook/bart-large-mnli` in a zero-shot classification setting. This model was fine-tuned on the MNLI dataset to perform natural language inference (NLI) and can be adapted to label classification tasks without additional training.\n",
    "\n",
    "Candidate labels are provided as plain text, and the model scores how well each label fits the input question."
   ]
  },
  {
   "cell_type": "code",
   "execution_count": null,
   "metadata": {
    "colab": {
     "base_uri": "https://localhost:8080/"
    },
    "id": "dFOzhiYroZ12",
    "outputId": "b293f7fa-6d89-4994-ee14-ed03085fde74"
   },
   "outputs": [
    {
     "name": "stderr",
     "output_type": "stream",
     "text": [
      "Device set to use cuda:0\n"
     ]
    }
   ],
   "source": [
    "# Load Zero-Shot Model\n",
    "!pip install transformers -q\n",
    "from transformers import pipeline\n",
    "\n",
    "classifier = pipeline(\"zero-shot-classification\", model=\"facebook/bart-large-mnli\", device=0)"
   ]
  },
  {
   "cell_type": "code",
   "execution_count": null,
   "metadata": {
    "id": "mKC_xmcLogBZ"
   },
   "outputs": [],
   "source": [
    "# Run Predictions\n",
    "results = classifier(texts, candidate_labels, batch_size=8)\n",
    "predicted_labels = [r[\"labels\"][0] for r in results]"
   ]
  },
  {
   "cell_type": "code",
   "execution_count": null,
   "metadata": {
    "colab": {
     "base_uri": "https://localhost:8080/"
    },
    "id": "9d_4NQF7ojuc",
    "outputId": "3754694f-ff7a-4d09-ee02-84c089eeb810"
   },
   "outputs": [
    {
     "name": "stdout",
     "output_type": "stream",
     "text": [
      "✅ Model Accuracy on 1013 examples: 325/1013 = 32.08%\n"
     ]
    }
   ],
   "source": [
    "# Evaluate Accuracy\n",
    "correct = sum(p == t for p, t in zip(predicted_labels, true_labels))\n",
    "total = len(true_labels)\n",
    "accuracy = correct / total\n",
    "print(f\"✅ Model Accuracy on {total} examples: {correct}/{total} = {accuracy:.2%}\")"
   ]
  },
  {
   "cell_type": "code",
   "execution_count": null,
   "metadata": {
    "colab": {
     "base_uri": "https://localhost:8080/"
    },
    "id": "U52e1LWPok4i",
    "outputId": "f6524151-355f-4cca-fafb-1fe8caae5c5e"
   },
   "outputs": [
    {
     "name": "stdout",
     "output_type": "stream",
     "text": [
      "\n",
      "🔍 Misclassified Examples:\n",
      "\n",
      "1. 📩 Text: will covid end soon\n",
      "   ❌ Predicted: Symptoms\n",
      "   ✅ True:      Information\n",
      "\n",
      "5. 📩 Text: will covid go away\n",
      "   ❌ Predicted: Symptoms\n",
      "   ✅ True:      Information\n",
      "\n",
      "7. 📩 Text: will covid ever go away\n",
      "   ❌ Predicted: Symptoms\n",
      "   ✅ True:      Information\n",
      "\n",
      "8. 📩 Text: when covid over\n",
      "   ❌ Predicted: Other\n",
      "   ✅ True:      Information\n",
      "\n",
      "9. 📩 Text: will covid ever end\n",
      "   ❌ Predicted: Other\n",
      "   ✅ True:      Information\n"
     ]
    }
   ],
   "source": [
    "# Show Sample Misclassifications\n",
    "print(\"\\n🔍 Misclassified Examples:\")\n",
    "for i, (text, pred, true) in enumerate(zip(texts, predicted_labels, true_labels)):\n",
    "    if pred != true and i < 10:\n",
    "        print(f\"\\n{i+1}. 📩 Text: {text}\")\n",
    "        print(f\"   ❌ Predicted: {pred}\")\n",
    "        print(f\"   ✅ True:      {true}\")"
   ]
  },
  {
   "cell_type": "code",
   "execution_count": null,
   "metadata": {
    "colab": {
     "base_uri": "https://localhost:8080/",
     "height": 507
    },
    "id": "S6tk8KckiMQB",
    "outputId": "a90b814e-00f9-4998-8ad9-de681b788b62"
   },
   "outputs": [
    {
     "data": {
      "image/png": "[encoded data removed]",
      "text/plain": [
       "<Figure size 800x500 with 1 Axes>"
      ]
     },
     "metadata": {},
     "output_type": "display_data"
    }
   ],
   "source": [
    "# Visualize Label Distribution\n",
    "from collections import Counter\n",
    "import matplotlib.pyplot as plt\n",
    "\n",
    "label_counts = Counter(predicted_labels)\n",
    "labels = list(label_counts.keys())\n",
    "counts = list(label_counts.values())\n",
    "\n",
    "plt.figure(figsize=(8, 5))\n",
    "plt.bar(labels, counts, color='skyblue')\n",
    "plt.title(\"Predicted Label Distribution\")\n",
    "plt.xlabel(\"Category\")\n",
    "plt.ylabel(\"Count\")\n",
    "plt.xticks(rotation=45)\n",
    "plt.tight_layout()\n",
    "plt.show()"
   ]
  },
  {
   "cell_type": "markdown",
   "metadata": {
    "id": "-RX81fdWqK45"
   },
   "source": [
    "## Evaluation\n",
    "\n",
    "- Total examples: 1,013\n",
    "- Model accuracy (exact match): ~32%\n",
    "\n",
    "We observed that the model performed better on distinct, concrete categories like “Testing” or “Symptoms” and struggled with speculative or abstract questions labeled “Information.”\n",
    "\n",
    "### Common Misclassifications\n",
    "\n",
    "- Questions like “Will COVID go away?” were misclassified as \"Symptoms\" instead of \"Information\"\n",
    "- This reflects the model’s tendency to rely on surface keywords rather than abstract intent\n"
   ]
  },
  {
   "cell_type": "code",
   "execution_count": null,
   "metadata": {
    "id": "Lp3V8Wc_ou85"
   },
   "outputs": [],
   "source": []
  },
  {
   "cell_type": "markdown",
   "metadata": {
    "id": "IlqKgcMrqzqf"
   },
   "source": [
    "## Limitations & Next Steps\n",
    "\n",
    "- Zero-shot models are sensitive to label phrasing and ambiguity\n",
    "- Misclassifications often occur between semantically close categories\n",
    "- Future work could include:\n",
    "  - Top-3 accuracy\n",
    "  - Fine-tuning on labeled data\n",
    "  - Testing other models (e.g., `roberta-large-mnli`, `flan-t5-xl`)"
   ]
  },
  {
   "cell_type": "code",
   "execution_count": null,
   "metadata": {
    "id": "blwGdbq0ovgD"
   },
   "outputs": [],
   "source": []
  },
  {
   "cell_type": "code",
   "execution_count": null,
   "metadata": {
    "colab": {
     "base_uri": "https://localhost:8080/",
     "height": 1000,
     "referenced_widgets": [
      "afe1e7c672dc4f73b92cc45fae128557",
      "13136296f92243ab93189f40edd9c438",
      "0c85564ba030477ba39da6bf61d73510",
      "2e5e4433585c47b1a72950ac9399afac",
      "29c78ef4a4b3410289d5aefa6f887521",
      "92dea9f1b08042aab6f331d736126e97",
      "36dae3fe333c4a69989e372d04a9bee8",
      "e47e529976ce4fe8b49c248a1041a98d",
      "15b818c7aec24f28ad4f462598d6b57a",
      "f303d89646374f129708472847654c77",
      "8dc92c44658e4bbdb133a4f598c09339",
      "185152529fc94b5495fc6c322f6d5db3",
      "0a3428ae279b43f5b579cdbe3612f82c",
      "5d3804abbdb3476dac94ceecbf8cb7f3",
      "a9f7396e716b49759108dd00beba8b68",
      "3ace8b050f304c7ab983210caea2aa0c",
      "f74a41d3c8c14f2784d1ea65ea1e29bb",
      "2743abb3cfa2411296edf9de8583db5f",
      "8a0414133a234d309b32aaa832344bf6",
      "845f0e31932043519c7a7059357f63c0",
      "9d29387992f643369f8679e864e9b9b3",
      "98d4121062ca428f99cd94ec08434389",
      "5839a8e25943498892780928351aefbb",
      "fc1582ffc17c43c8bb6066cb477173bb",
      "df80fcb60e8d4cb4909f75140a69496b",
      "f698adac96f6450ea3dba39612dfb184",
      "b0bf7fca8bac43e8829ce0b529825ffe",
      "50d3f6a97d994c8ebabbaa89c66e9a89",
      "af095aed8d8b4fda9e690dad46f76881",
      "87a4defc399c49eb911997f34f9dded8",
      "d61b80ab2d7047acbc6d676588681b90",
      "824656e731e641fa82c83a32cfa25843",
      "24f76184b648404488d7bf44f3f945f6",
      "acb690a8e89e4b11a16f0d36aac9ce5d",
      "0ed95474e68849d0ab0cea816dd84d98",
      "b7d4ed81a49f4cf380a26479587f59bd",
      "a2df47041ddf4ecfba60a12b81550e3d",
      "f69480837f744deaa6b0400b5f6e3612",
      "150fc23d660a4d32aae4c1f72d2d7618",
      "1ef0350b0a1c413f96b854dddfb380f2",
      "b7471f161f7f44a9ac4aecb1929e9841",
      "944edc1ca6b64cd3a7eba4673986d676",
      "57dc248f35a8482a9395c4713b3722d4",
      "a4d4789ce74b4815af06f859e5a4466e",
      "aefe038d91ff47d2aff1993e5dfd8cb5",
      "da013eca3dc440159c8b740cf99add6f",
      "f18e65263a5b448184a6a26e1fd6c992",
      "1cbd377e07c24056870690fdc864c30c",
      "778282c8d8f3424cb14f9e754f12e008",
      "12b39f0a7b4c415ab8da0eabaab9e3d8",
      "fc2abf6e24a945fe9652cea0f16cad2e",
      "17a02dfa55724244893bf0f808fd5743",
      "95f89b0c99764dc385963988927f81c4",
      "204ef6e2884a4f65824f4c6c26567a96",
      "d8a17eba6cdf4853999b4f21d5b9f66a",
      "3ea2a3323aa34f269e0ee9380d67946c",
      "69c10c78f5ad4f36a37dfa445ecada86",
      "23f91c338a624e2ca9e174cce2135ee6",
      "0b60a22b24d84da893c09c64df2144ba",
      "51a1e859b68447158fd385b21b399c01",
      "689cd6e593594cc1af79ca37378a5395",
      "ba967a4f0d5a4970a981887af8574315",
      "d453afde12314c07ab32a37fdcb330f7",
      "44679afcd6ff4c338efd004f7f390083",
      "ab665f020c544ccc96e977d02e68b9e3",
      "d47b357bcf04468b8ff88f7bfe486875"
     ]
    },
    "id": "1yA8XR5jovmb",
    "outputId": "c6a18e37-a601-45e6-9ec2-da10ecaf3589"
   },
   "outputs": [
    {
     "data": {
      "application/vnd.jupyter.widget-view+json": {
       "model_id": "afe1e7c672dc4f73b92cc45fae128557",
       "version_major": 2,
       "version_minor": 0
      },
      "text/plain": [
       "config.json:   0%|          | 0.00/688 [00:00<?, ?B/s]"
      ]
     },
     "metadata": {},
     "output_type": "display_data"
    },
    {
     "data": {
      "application/vnd.jupyter.widget-view+json": {
       "model_id": "185152529fc94b5495fc6c322f6d5db3",
       "version_major": 2,
       "version_minor": 0
      },
      "text/plain": [
       "model.safetensors:   0%|          | 0.00/1.43G [00:00<?, ?B/s]"
      ]
     },
     "metadata": {},
     "output_type": "display_data"
    },
    {
     "name": "stderr",
     "output_type": "stream",
     "text": [
      "Some weights of the model checkpoint at roberta-large-mnli were not used when initializing RobertaForSequenceClassification: ['roberta.pooler.dense.bias', 'roberta.pooler.dense.weight']\n",
      "- This IS expected if you are initializing RobertaForSequenceClassification from the checkpoint of a model trained on another task or with another architecture (e.g. initializing a BertForSequenceClassification model from a BertForPreTraining model).\n",
      "- This IS NOT expected if you are initializing RobertaForSequenceClassification from the checkpoint of a model that you expect to be exactly identical (initializing a BertForSequenceClassification model from a BertForSequenceClassification model).\n"
     ]
    },
    {
     "data": {
      "application/vnd.jupyter.widget-view+json": {
       "model_id": "5839a8e25943498892780928351aefbb",
       "version_major": 2,
       "version_minor": 0
      },
      "text/plain": [
       "tokenizer_config.json:   0%|          | 0.00/25.0 [00:00<?, ?B/s]"
      ]
     },
     "metadata": {},
     "output_type": "display_data"
    },
    {
     "data": {
      "application/vnd.jupyter.widget-view+json": {
       "model_id": "acb690a8e89e4b11a16f0d36aac9ce5d",
       "version_major": 2,
       "version_minor": 0
      },
      "text/plain": [
       "vocab.json:   0%|          | 0.00/899k [00:00<?, ?B/s]"
      ]
     },
     "metadata": {},
     "output_type": "display_data"
    },
    {
     "data": {
      "application/vnd.jupyter.widget-view+json": {
       "model_id": "aefe038d91ff47d2aff1993e5dfd8cb5",
       "version_major": 2,
       "version_minor": 0
      },
      "text/plain": [
       "merges.txt:   0%|          | 0.00/456k [00:00<?, ?B/s]"
      ]
     },
     "metadata": {},
     "output_type": "display_data"
    },
    {
     "data": {
      "application/vnd.jupyter.widget-view+json": {
       "model_id": "3ea2a3323aa34f269e0ee9380d67946c",
       "version_major": 2,
       "version_minor": 0
      },
      "text/plain": [
       "tokenizer.json:   0%|          | 0.00/1.36M [00:00<?, ?B/s]"
      ]
     },
     "metadata": {},
     "output_type": "display_data"
    },
    {
     "name": "stderr",
     "output_type": "stream",
     "text": [
      "Device set to use cuda:0\n"
     ]
    },
    {
     "name": "stdout",
     "output_type": "stream",
     "text": [
      "✅ Model Accuracy on 1013 examples: 281/1013 = 27.74%\n",
      "\n",
      "🔍 Misclassified Examples:\n",
      "\n",
      "3. 📩 Text: when covid will be over\n",
      "   ❌ Predicted: Testing\n",
      "   ✅ True:      Information\n",
      "\n",
      "5. 📩 Text: will covid go away\n",
      "   ❌ Predicted: Symptoms\n",
      "   ✅ True:      Information\n",
      "\n",
      "7. 📩 Text: will covid ever go away\n",
      "   ❌ Predicted: Symptoms\n",
      "   ✅ True:      Information\n",
      "\n",
      "8. 📩 Text: when covid over\n",
      "   ❌ Predicted: Testing\n",
      "   ✅ True:      Information\n"
     ]
    },
    {
     "data": {
      "image/png": "[encoded data removed]",
      "text/plain": [
       "<Figure size 800x500 with 1 Axes>"
      ]
     },
     "metadata": {},
     "output_type": "display_data"
    }
   ],
   "source": [
    "classifier = pipeline(\"zero-shot-classification\", model=\"roberta-large-mnli\", device=0)\n",
    "\n",
    "# Run Predictions\n",
    "results = classifier(texts, candidate_labels, batch_size=8)\n",
    "predicted_labels = [r[\"labels\"][0] for r in results]\n",
    "\n",
    "# 🔄 Run Predictions\n",
    "results = classifier(texts, candidate_labels, batch_size=8)\n",
    "predicted_labels = [r[\"labels\"][0] for r in results]\n",
    "\n",
    "# ✅ Evaluate Accuracy\n",
    "correct = sum(p == t for p, t in zip(predicted_labels, true_labels))\n",
    "total = len(true_labels)\n",
    "accuracy = correct / total\n",
    "print(f\"✅ Model Accuracy on {total} examples: {correct}/{total} = {accuracy:.2%}\")\n",
    "\n",
    "# 🔍 Show Sample Misclassifications\n",
    "print(\"\\n🔍 Misclassified Examples:\")\n",
    "for i, (text, pred, true) in enumerate(zip(texts, predicted_labels, true_labels)):\n",
    "    if pred != true and i < 10:\n",
    "        print(f\"\\n{i+1}. 📩 Text: {text}\")\n",
    "        print(f\"   ❌ Predicted: {pred}\")\n",
    "        print(f\"   ✅ True:      {true}\")\n",
    "\n",
    "# 📊 Visualize Label Distribution\n",
    "from collections import Counter\n",
    "import matplotlib.pyplot as plt\n",
    "\n",
    "label_counts = Counter(predicted_labels)\n",
    "labels = list(label_counts.keys())\n",
    "counts = list(label_counts.values())\n",
    "\n",
    "plt.figure(figsize=(8, 5))\n",
    "plt.bar(labels, counts, color='skyblue')\n",
    "plt.title(\"Predicted Label Distribution\")\n",
    "plt.xlabel(\"Category\")\n",
    "plt.ylabel(\"Count\")\n",
    "plt.xticks(rotation=45)\n",
    "plt.tight_layout()\n",
    "plt.show()"
   ]
  },
  {
   "cell_type": "code",
   "execution_count": null,
   "metadata": {
    "colab": {
     "base_uri": "https://localhost:8080/"
    },
    "id": "u8H8n2Jatc-8",
    "outputId": "abb683ba-4322-4b26-9b36-d5883f48a1a1"
   },
   "outputs": [
    {
     "name": "stdout",
     "output_type": "stream",
     "text": [
      "🎯 Top-3 Accuracy: 538/1013 = 53.11%\n"
     ]
    }
   ],
   "source": [
    "top_k = 3\n",
    "correct_top_k = 0\n",
    "\n",
    "for true, output in zip(true_labels, results):\n",
    "    top_k_preds = output[\"labels\"][:top_k]\n",
    "    if true in top_k_preds:\n",
    "        correct_top_k += 1\n",
    "\n",
    "top_k_accuracy = correct_top_k / len(true_labels)\n",
    "print(f\"🎯 Top-{top_k} Accuracy: {correct_top_k}/{len(true_labels)} = {top_k_accuracy:.2%}\")"
   ]
  },
  {
   "cell_type": "markdown",
   "metadata": {
    "id": "CpDuom4jtjdS"
   },
   "source": [
    "### 🎯 Top-3 Accuracy Evaluation\n",
    "\n",
    "Since zero-shot classification can struggle with abstract labels or closely related categories, we computed **Top-3 accuracy** to see whether the correct label appears among the model's top 3 predictions.\n",
    "\n",
    "- **Model**: `roberta-large-mnli`\n",
    "- **Top-1 Accuracy**: 27.74%\n",
    "- **Top-3 Accuracy**: 53.11%\n",
    "- This suggests the model often ranks the correct label **second or third**, even when it's not the top prediction.\n",
    "\n",
    "Misclassifications of abstract or speculative questions like “will covid go away?” may still include the correct category in the top 3, even if not ranked first."
   ]
  },
  {
   "cell_type": "code",
   "execution_count": null,
   "metadata": {
    "id": "ce_5mFDpmbhx"
   },
   "outputs": [],
   "source": []
  },
  {
   "cell_type": "markdown",
   "metadata": {
    "id": "AweWZucGFwUh"
   },
   "source": [
    "## Project Summary\n",
    "\n",
    "This project explores the use of large language models (LLMs) for classifying de-identified, COVID-related health questions using zero-shot learning.\n",
    "\n",
    "We used the `facebook/bart-large-mnli` and `roberta-large-mnli` models from Hugging Face's Transformers library to predict one of six broad health-related categories:\n",
    "\n",
    "- Symptoms\n",
    "- Testing\n",
    "- Treatment\n",
    "- Social Impact\n",
    "- Information\n",
    "- Other\n",
    "\n",
    "The original COVID-Q dataset included fine-grained labels (e.g., “Symptoms - Fever”, “Testing - PCR”), which we mapped to these broader categories for improved model interpretability and evaluation.\n",
    "\n",
    "---\n",
    "\n",
    "### 🔍 Model Performance (RoBERTa)\n",
    "\n",
    "- **Dataset size**: 1,013 examples\n",
    "- **Top-1 Accuracy**: 27.74%\n",
    "- **Top-3 Accuracy**: 53.11%\n",
    "\n",
    "While overall top-1 accuracy was modest, the model correctly included the ground-truth label in its top 3 predictions more than half the time — a promising result for zero-shot text triage without any domain-specific fine-tuning.\n",
    "\n",
    "---\n",
    "\n",
    "### ⚠️ Observations\n",
    "\n",
    "- The model frequently misclassified abstract or speculative questions (e.g., “Will COVID go away?”) as \"Symptoms\" or \"Testing\" instead of \"Information\"\n",
    "- This suggests that zero-shot models rely heavily on surface-level cues, and may benefit from prompt tuning or domain-specific label phrasing\n",
    "\n",
    "---\n",
    "\n",
    "### 💡 Next Steps\n",
    "\n",
    "- Experiment with prompt rewording (e.g., “abstract question”, “future concern”)\n",
    "- Try other models (e.g., `flan-t5-xl`, `deberta-v3-mnli`)\n",
    "- Fine-tune with a small labeled subset to improve handling of edge cases\n",
    "\n"
   ]
  },
  {
   "cell_type": "code",
   "execution_count": null,
   "metadata": {
    "id": "_CL3bAXFuMIC"
   },
   "outputs": [],
   "source": []
  }
 ],
 "metadata": {
  "accelerator": "GPU",
  "colab": {
   "gpuType": "T4",
   "provenance": []
  },
  "kernelspec": {
   "display_name": "Python 3",
   "name": "python3"
  },
  "language_info": {
   "name": "python"
  }
 },
 "nbformat": 4,
 "nbformat_minor": 0
}
